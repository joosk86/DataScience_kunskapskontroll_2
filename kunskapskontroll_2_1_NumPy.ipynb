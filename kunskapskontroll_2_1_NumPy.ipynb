{
 "cells": [
  {
   "cell_type": "markdown",
   "id": "dacf74e6",
   "metadata": {},
   "source": [
    "# NumPy"
   ]
  },
  {
   "cell_type": "markdown",
   "id": "01b2bf34",
   "metadata": {},
   "source": [
    "Read the links: https://numpy.org/doc/stable/user/quickstart.html  and https://numpy.org/doc/stable/user/basics.broadcasting.html  before solving the exercises. "
   ]
  },
  {
   "cell_type": "code",
   "execution_count": 279,
   "id": "1f79e4a6",
   "metadata": {},
   "outputs": [],
   "source": [
    "import numpy as np"
   ]
  },
  {
   "cell_type": "markdown",
   "id": "7dae6889",
   "metadata": {},
   "source": [
    "### Print out the dimension (number of axes), shape, size and the datatype of the matrix A."
   ]
  },
  {
   "cell_type": "code",
   "execution_count": 280,
   "id": "7b3678cd",
   "metadata": {},
   "outputs": [],
   "source": [
    "A = np.arange(1, 16).reshape(3,5)"
   ]
  },
  {
   "cell_type": "code",
   "execution_count": 281,
   "id": "31d39235",
   "metadata": {},
   "outputs": [
    {
     "name": "stdout",
     "output_type": "stream",
     "text": [
      "Dimension: 2\n",
      "Shape: (3, 5)\n",
      "Size: 15\n",
      "Datatype: int64\n"
     ]
    }
   ],
   "source": [
    "#\n",
    "print(\"Dimension:\", A.ndim)\n",
    "print(\"Shape:\", A.shape)\n",
    "print(\"Size:\", A.size)\n",
    "print(\"Datatype:\", A.dtype)\n"
   ]
  },
  {
   "cell_type": "markdown",
   "id": "e56d2a96",
   "metadata": {},
   "source": [
    "### Do the following computations on the matrices B and C: \n",
    "* Elementwise subtraction. \n",
    "* Elementwise multiplication. \n",
    "* Matrix multiplication (by default you should use the @ operator)."
   ]
  },
  {
   "cell_type": "code",
   "execution_count": 282,
   "id": "a7053fbb",
   "metadata": {},
   "outputs": [
    {
     "name": "stdout",
     "output_type": "stream",
     "text": [
      "[[1 2 3]\n",
      " [4 5 6]\n",
      " [7 8 9]]\n",
      "\n",
      "[[2. 2. 2.]\n",
      " [2. 2. 2.]\n",
      " [2. 2. 2.]]\n"
     ]
    }
   ],
   "source": [
    "B = np.arange(1, 10).reshape(3, 3)\n",
    "C = np.ones((3, 3))*2\n",
    "\n",
    "print(B)\n",
    "print()\n",
    "print(C)"
   ]
  },
  {
   "cell_type": "code",
   "execution_count": 283,
   "id": "3cd794ae",
   "metadata": {},
   "outputs": [
    {
     "name": "stdout",
     "output_type": "stream",
     "text": [
      "Elementwise Subtraction B - C\n",
      "[[-1.  0.  1.]\n",
      " [ 2.  3.  4.]\n",
      " [ 5.  6.  7.]]\n",
      "\n",
      "Elementwise Multiplication B * C\n",
      "[[ 2.  4.  6.]\n",
      " [ 8. 10. 12.]\n",
      " [14. 16. 18.]]\n",
      "\n",
      "Matrix Multiplication B @ C\n",
      "[[12. 12. 12.]\n",
      " [30. 30. 30.]\n",
      " [48. 48. 48.]]\n"
     ]
    }
   ],
   "source": [
    "print(\"Elementwise Subtraction B - C\")\n",
    "print(B - C)\n",
    "print()\n",
    "print(\"Elementwise Multiplication B * C\")\n",
    "print(B * C)\n",
    "print()\n",
    "print(\"Matrix Multiplication B @ C\")\n",
    "print(B @ C)"
   ]
  },
  {
   "cell_type": "markdown",
   "id": "96030d53",
   "metadata": {},
   "source": [
    "### Do the following calculations on the matrix:\n",
    "* Exponentiate each number elementwise (use the np.exp function).\n",
    "\n",
    "* Calculate the minimum value in the whole matrix. \n",
    "* Calculcate the minimum value in each row. \n",
    "* Calculcate the minimum value in each column. \n",
    "\n",
    "\n",
    "* Find the index value for the minimum value in the whole matrix (hint: use np.argmin).\n",
    "* Find the index value for the minimum value in each row (hint: use np.argmin).\n",
    "\n",
    "\n",
    "* Calculate the sum for all elements.\n",
    "* Calculate the mean for each column. \n",
    "* Calculate the median for each column. "
   ]
  },
  {
   "cell_type": "code",
   "execution_count": 284,
   "id": "f8a9166b",
   "metadata": {},
   "outputs": [
    {
     "name": "stdout",
     "output_type": "stream",
     "text": [
      "[[1 2 3]\n",
      " [4 5 6]\n",
      " [7 8 9]]\n"
     ]
    }
   ],
   "source": [
    "B = np.arange(1, 10).reshape(3, 3)\n",
    "print(B)"
   ]
  },
  {
   "cell_type": "code",
   "execution_count": 285,
   "id": "f03f24f7",
   "metadata": {},
   "outputs": [
    {
     "name": "stdout",
     "output_type": "stream",
     "text": [
      "[[2.71828183e+00 7.38905610e+00 2.00855369e+01]\n",
      " [5.45981500e+01 1.48413159e+02 4.03428793e+02]\n",
      " [1.09663316e+03 2.98095799e+03 8.10308393e+03]]\n"
     ]
    }
   ],
   "source": [
    "# exponentiate each number elementwise\n",
    "print(np.exp(B))"
   ]
  },
  {
   "cell_type": "code",
   "execution_count": 286,
   "id": "54ae704f",
   "metadata": {},
   "outputs": [
    {
     "name": "stdout",
     "output_type": "stream",
     "text": [
      "1\n"
     ]
    }
   ],
   "source": [
    "# Calculate the minimum value in the matrix\n",
    "print(np.min(B))"
   ]
  },
  {
   "cell_type": "code",
   "execution_count": 287,
   "id": "c4c484a7",
   "metadata": {},
   "outputs": [
    {
     "name": "stdout",
     "output_type": "stream",
     "text": [
      "[1 4 7]\n"
     ]
    }
   ],
   "source": [
    "# Calculate the minimum value in each row\n",
    "print(np.min(B, axis=1))"
   ]
  },
  {
   "cell_type": "code",
   "execution_count": 288,
   "id": "090f3dbe",
   "metadata": {},
   "outputs": [
    {
     "name": "stdout",
     "output_type": "stream",
     "text": [
      "[1 2 3]\n"
     ]
    }
   ],
   "source": [
    "# Calculate the minimum value in each column\n",
    "print(np.min(B, axis=0))"
   ]
  },
  {
   "cell_type": "code",
   "execution_count": 289,
   "id": "9fa23788",
   "metadata": {},
   "outputs": [
    {
     "name": "stdout",
     "output_type": "stream",
     "text": [
      "0\n"
     ]
    }
   ],
   "source": [
    "#index value matrix\n",
    "print(np.argmin(B))"
   ]
  },
  {
   "cell_type": "code",
   "execution_count": 290,
   "id": "3479ffe0",
   "metadata": {},
   "outputs": [
    {
     "name": "stdout",
     "output_type": "stream",
     "text": [
      "[0 0 0]\n"
     ]
    }
   ],
   "source": [
    "#index value row\n",
    "print(np.argmin(B, axis=0))\n"
   ]
  },
  {
   "cell_type": "code",
   "execution_count": 291,
   "id": "f1b0651a",
   "metadata": {},
   "outputs": [
    {
     "name": "stdout",
     "output_type": "stream",
     "text": [
      "45\n"
     ]
    }
   ],
   "source": [
    "# Calculate sum of all elements\n",
    "print(np.sum(B))"
   ]
  },
  {
   "cell_type": "code",
   "execution_count": 292,
   "id": "4ed5488b",
   "metadata": {},
   "outputs": [
    {
     "name": "stdout",
     "output_type": "stream",
     "text": [
      "[4. 5. 6.]\n"
     ]
    }
   ],
   "source": [
    "# Calculate the mean for each column\n",
    "print(np.mean(B, axis=0))\n"
   ]
  },
  {
   "cell_type": "code",
   "execution_count": 293,
   "id": "d8ba800a",
   "metadata": {},
   "outputs": [
    {
     "name": "stdout",
     "output_type": "stream",
     "text": [
      "[4. 5. 6.]\n"
     ]
    }
   ],
   "source": [
    "# Calculate the median for each column\n",
    "print(np.median(B, axis=0))"
   ]
  },
  {
   "cell_type": "markdown",
   "id": "541eb7ba",
   "metadata": {},
   "source": [
    "### What does it mean when you provide fewer indices than axes when slicing? See example below."
   ]
  },
  {
   "cell_type": "code",
   "execution_count": 294,
   "id": "9c8abf56",
   "metadata": {},
   "outputs": [
    {
     "name": "stdout",
     "output_type": "stream",
     "text": [
      "[[ 1  2  3  4  5]\n",
      " [ 6  7  8  9 10]\n",
      " [11 12 13 14 15]]\n"
     ]
    }
   ],
   "source": [
    "print(A)"
   ]
  },
  {
   "cell_type": "code",
   "execution_count": 295,
   "id": "69415f7b",
   "metadata": {},
   "outputs": [
    {
     "data": {
      "text/plain": [
       "array([ 6,  7,  8,  9, 10])"
      ]
     },
     "execution_count": 295,
     "metadata": {},
     "output_type": "execute_result"
    }
   ],
   "source": [
    "A[1]"
   ]
  },
  {
   "cell_type": "markdown",
   "id": "6c53541b",
   "metadata": {},
   "source": [
    "**Answer:**"
   ]
  },
  {
   "cell_type": "code",
   "execution_count": 296,
   "id": "de01e120",
   "metadata": {},
   "outputs": [],
   "source": [
    "# It means that you slice the array based on the axes, in this case [1] = selection of what to slice from the array."
   ]
  },
  {
   "cell_type": "markdown",
   "id": "6652d0c9",
   "metadata": {},
   "source": [
    "### Iterating over multidimensional arrays is done with respect to the first axis, so in the example below we iterate trough the rows. If you would like to iterate through the array *elementwise*, how would you do that?"
   ]
  },
  {
   "cell_type": "code",
   "execution_count": 297,
   "id": "9459864f",
   "metadata": {},
   "outputs": [
    {
     "data": {
      "text/plain": [
       "array([[ 1,  2,  3,  4,  5],\n",
       "       [ 6,  7,  8,  9, 10],\n",
       "       [11, 12, 13, 14, 15]])"
      ]
     },
     "execution_count": 297,
     "metadata": {},
     "output_type": "execute_result"
    }
   ],
   "source": [
    "A"
   ]
  },
  {
   "cell_type": "code",
   "execution_count": 298,
   "id": "a671bb5a",
   "metadata": {},
   "outputs": [
    {
     "name": "stdout",
     "output_type": "stream",
     "text": [
      "[1 2 3 4 5]\n",
      "[ 6  7  8  9 10]\n",
      "[11 12 13 14 15]\n"
     ]
    }
   ],
   "source": [
    "for i in A:\n",
    "    print(i)"
   ]
  },
  {
   "cell_type": "code",
   "execution_count": 299,
   "id": "f4e443a0",
   "metadata": {},
   "outputs": [
    {
     "name": "stdout",
     "output_type": "stream",
     "text": [
      "1\n",
      "2\n",
      "3\n",
      "4\n",
      "5\n",
      "6\n",
      "7\n",
      "8\n",
      "9\n",
      "10\n",
      "11\n",
      "12\n",
      "13\n",
      "14\n",
      "15\n"
     ]
    }
   ],
   "source": [
    "# using the flat function\n",
    "for i in A.flat:\n",
    "    print(i)"
   ]
  },
  {
   "cell_type": "markdown",
   "id": "608a2583",
   "metadata": {},
   "source": [
    "### Explain what the code below does. More specifically, b has three axes - what does this mean? "
   ]
  },
  {
   "cell_type": "code",
   "execution_count": 300,
   "id": "f8f9b26f",
   "metadata": {},
   "outputs": [
    {
     "name": "stdout",
     "output_type": "stream",
     "text": [
      "[ 0  1  2  3  4  5  6  7  8  9 10 11 12 13 14 15 16 17 18 19 20 21 22 23\n",
      " 24 25 26 27 28 29]\n",
      "\n",
      "[[[ 0  1  2  3  4]\n",
      "  [ 5  6  7  8  9]\n",
      "  [10 11 12 13 14]]\n",
      "\n",
      " [[15 16 17 18 19]\n",
      "  [20 21 22 23 24]\n",
      "  [25 26 27 28 29]]]\n"
     ]
    }
   ],
   "source": [
    "a = np.arange(30)\n",
    "b = a.reshape((2, 3, -1))\n",
    "print(a)\n",
    "print()\n",
    "\n",
    "print(b)"
   ]
  },
  {
   "cell_type": "code",
   "execution_count": 301,
   "id": "863a45df",
   "metadata": {},
   "outputs": [],
   "source": [
    "# When B has three axes it means that the array is 3d. 2 sets of blocks, where every block has 3 x rows and 3 x columns."
   ]
  },
  {
   "cell_type": "markdown",
   "id": "421c9607-819a-401d-949a-97424436fe29",
   "metadata": {},
   "source": [
    "# For the exercises below, read the document *\"matematik_yh_antonio_vektorer_matriser_utdrag\"*\n",
    "# Solutions to the exercises and recorded videos can be found here: https://github.com/AntonioPrgomet/matematik_foer_yh\n",
    "\n",
    "# If you find the exercises below very hard, do not worry. Try your best, that will be enough. "
   ]
  },
  {
   "cell_type": "markdown",
   "id": "ab5933d5",
   "metadata": {},
   "source": [
    "### Broadcasting\n",
    "**Read the following link about broadcasting: https://numpy.org/doc/stable/user/basics.broadcasting.html#basics-broadcasting**"
   ]
  },
  {
   "cell_type": "markdown",
   "id": "7377ae73",
   "metadata": {},
   "source": []
  },
  {
   "cell_type": "markdown",
   "id": "039805ba",
   "metadata": {},
   "source": [
    "# Remark on Broadcasting when doing Linear Algebra calculations in Python. "
   ]
  },
  {
   "cell_type": "markdown",
   "id": "c4bcc147",
   "metadata": {},
   "source": [
    "### From the mathematical rules of matrix addition, the operation below (m1 + m2) does not make sense. The reason is that matrix addition requires two matrices of the same size. In Python however, it works due to broadcasting rules in NumPy. So you must be careful when doing Linear Algebra calculations in Python since they do not follow the \"mathematical rules\". This can however easily be handled by doing some simple programming, for example validating that two matrices have the same shape is easy if you for instance want to add two matrices. "
   ]
  },
  {
   "cell_type": "code",
   "execution_count": 302,
   "id": "1fd46778",
   "metadata": {},
   "outputs": [
    {
     "name": "stdout",
     "output_type": "stream",
     "text": [
      "[[2 3]\n",
      " [4 5]]\n"
     ]
    }
   ],
   "source": [
    "m1 = np.array([[1, 2], [3, 4]])\n",
    "m2 = np.array([1, 1])\n",
    "print(m1 + m2)"
   ]
  },
  {
   "cell_type": "markdown",
   "id": "047d6576",
   "metadata": {},
   "source": [
    "### The example below would also not be allowed if following the \"mathematical rules\" in Linear Algebra. But it works due to broadcasting in NumPy. "
   ]
  },
  {
   "cell_type": "code",
   "execution_count": 303,
   "id": "5e6ef2e4",
   "metadata": {},
   "outputs": [
    {
     "name": "stdout",
     "output_type": "stream",
     "text": [
      "[2 3 4]\n"
     ]
    }
   ],
   "source": [
    "v1 = np.array([1, 2, 3])\n",
    "print(v1 + 1)"
   ]
  },
  {
   "cell_type": "code",
   "execution_count": 304,
   "id": "e2cbae26",
   "metadata": {},
   "outputs": [
    {
     "name": "stdout",
     "output_type": "stream",
     "text": [
      "[[1 2]\n",
      " [3 4]]\n",
      "[2 2]\n"
     ]
    }
   ],
   "source": [
    "A = np.arange(1, 5).reshape(2,2)\n",
    "print(A)\n",
    "\n",
    "b = np.array([2, 2])\n",
    "print(b)"
   ]
  },
  {
   "cell_type": "markdown",
   "id": "722fd5cd",
   "metadata": {},
   "source": [
    "# Vector- and matrix algebra Exercises"
   ]
  },
  {
   "cell_type": "markdown",
   "id": "b63a3081-d976-4d9f-bfd0-a63917e79f7d",
   "metadata": {},
   "source": [
    "**Now you are going to create a function that can be reused every time you add or multiply matrices. The function is created so that we do the addition and multiplication according to the rules of vector- and matrix algebra.**\n",
    "\n",
    "**Create a function \"add_mult_matrices\" that takes two matrices as input arguments (validate that the input are of the type numpy.ndarray by using the isinstance function), a third argument that is either 'add' or 'multiply' that specifies if you want to add or multiply the matrices (validate that the third argument is either 'add' or 'multiply'). When doing matrix addition, validate that the matrices have the same size. When doing matrix multiplication, validate that the sizes conform (i.e. number of columns in the first matrix is equal to the number of rows in the second matrix).**"
   ]
  },
  {
   "cell_type": "code",
   "execution_count": 305,
   "id": "3506f977-ac0a-473f-85bc-eec9f35dc498",
   "metadata": {},
   "outputs": [
    {
     "name": "stdout",
     "output_type": "stream",
     "text": [
      "[[ 2  3]\n",
      " [ 8 10]]\n",
      "[[11 13]\n",
      " [23 27]]\n"
     ]
    },
    {
     "ename": "ValueError",
     "evalue": "operation is not add or multiply",
     "output_type": "error",
     "traceback": [
      "\u001b[1;31m---------------------------------------------------------------------------\u001b[0m",
      "\u001b[1;31mValueError\u001b[0m                                Traceback (most recent call last)",
      "Cell \u001b[1;32mIn[305], line 30\u001b[0m\n\u001b[0;32m     27\u001b[0m test_mult \u001b[38;5;241m=\u001b[39m add_mult_matrices(matrix1, matrix2, \u001b[38;5;124m\"\u001b[39m\u001b[38;5;124mmultiply\u001b[39m\u001b[38;5;124m\"\u001b[39m)\n\u001b[0;32m     28\u001b[0m \u001b[38;5;28mprint\u001b[39m(test_mult) \n\u001b[1;32m---> 30\u001b[0m test_subtract \u001b[38;5;241m=\u001b[39m \u001b[43madd_mult_matrices\u001b[49m\u001b[43m(\u001b[49m\u001b[43mmatrix1\u001b[49m\u001b[43m,\u001b[49m\u001b[43m \u001b[49m\u001b[43mmatrix2\u001b[49m\u001b[43m,\u001b[49m\u001b[43m \u001b[49m\u001b[38;5;124;43m\"\u001b[39;49m\u001b[38;5;124;43msubtract\u001b[39;49m\u001b[38;5;124;43m\"\u001b[39;49m\u001b[43m)\u001b[49m\n\u001b[0;32m     34\u001b[0m \u001b[38;5;66;03m#\u001b[39;00m\n",
      "Cell \u001b[1;32mIn[305], line 8\u001b[0m, in \u001b[0;36madd_mult_matrices\u001b[1;34m(matrix1, matrix2, operation)\u001b[0m\n\u001b[0;32m      5\u001b[0m     \u001b[38;5;28;01mraise\u001b[39;00m \u001b[38;5;167;01mValueError\u001b[39;00m(\u001b[38;5;124m\"\u001b[39m\u001b[38;5;124mBoth matrices is not of type np.ndarray\u001b[39m\u001b[38;5;124m\"\u001b[39m)\n\u001b[0;32m      7\u001b[0m \u001b[38;5;28;01mif\u001b[39;00m operation \u001b[38;5;129;01mnot\u001b[39;00m \u001b[38;5;129;01min\u001b[39;00m(\u001b[38;5;124m\"\u001b[39m\u001b[38;5;124madd\u001b[39m\u001b[38;5;124m\"\u001b[39m, \u001b[38;5;124m\"\u001b[39m\u001b[38;5;124mmultiply\u001b[39m\u001b[38;5;124m\"\u001b[39m):\n\u001b[1;32m----> 8\u001b[0m     \u001b[38;5;28;01mraise\u001b[39;00m \u001b[38;5;167;01mValueError\u001b[39;00m(\u001b[38;5;124m\"\u001b[39m\u001b[38;5;124moperation is not add or multiply\u001b[39m\u001b[38;5;124m\"\u001b[39m)\n\u001b[0;32m     10\u001b[0m \u001b[38;5;28;01mif\u001b[39;00m operation \u001b[38;5;241m==\u001b[39m \u001b[38;5;124m\"\u001b[39m\u001b[38;5;124madd\u001b[39m\u001b[38;5;124m\"\u001b[39m:\n\u001b[0;32m     11\u001b[0m     \u001b[38;5;28;01mif\u001b[39;00m matrix1\u001b[38;5;241m.\u001b[39mshape \u001b[38;5;241m!=\u001b[39m matrix2\u001b[38;5;241m.\u001b[39mshape:\n",
      "\u001b[1;31mValueError\u001b[0m: operation is not add or multiply"
     ]
    }
   ],
   "source": [
    "# Function to add and multiply matrices\n",
    "\n",
    "def add_mult_matrices(matrix1, matrix2, operation):\n",
    "    if not isinstance(matrix1, np.ndarray) or not isinstance(matrix2, np.ndarray):\n",
    "        raise ValueError(\"Both matrices is not of type np.ndarray\")\n",
    "    \n",
    "    if operation not in(\"add\", \"multiply\"):\n",
    "        raise ValueError(\"operation is not add or multiply\")\n",
    "    \n",
    "    if operation == \"add\":\n",
    "        if matrix1.shape != matrix2.shape:\n",
    "            raise ValueError(\" the matrices doesnt have the same shape\")\n",
    "        return matrix1 + matrix2\n",
    "    \n",
    "    elif operation == \"multiply\":\n",
    "        if matrix1.shape[1] != matrix2.shape[0]:\n",
    "            raise ValueError(\" the matrices doesnt have the same rows contra columns\")\n",
    "        return matrix1 @ matrix2\n",
    "    \n",
    "\n",
    "matrix1 = np.array([[1, 2], [3, 4]])\n",
    "matrix2 = np.array([[1, 1], [5, 6]])\n",
    "\n",
    "test_addera = add_mult_matrices(matrix1, matrix2, \"add\")\n",
    "print(test_addera)   \n",
    "\n",
    "test_mult = add_mult_matrices(matrix1, matrix2, \"multiply\")\n",
    "print(test_mult) \n",
    "\n",
    "test_subtract = add_mult_matrices(matrix1, matrix2, \"subtract\")\n",
    "\n",
    "\n",
    "\n",
    "#"
   ]
  },
  {
   "cell_type": "markdown",
   "id": "8dad82d0-2359-4dff-8f5b-a57d3e34103c",
   "metadata": {},
   "source": [
    "### Solve all the exercises in chapter 10.1 in the book \"Matematik för yrkeshögskolan\" by using Python. "
   ]
  },
  {
   "cell_type": "code",
   "execution_count": null,
   "id": "89df88af-3668-4d98-a0a4-e6d92eea0f89",
   "metadata": {},
   "outputs": [],
   "source": [
    "# Uppgift 10.1.1.\n",
    "\n",
    "x = np.array([4,3])\n",
    "\n",
    "# (a) Vilken dimension har vektorn x?\n",
    "print(\"(a) Vilken dimension har vektorn x:\", x.shape)\n",
    "\n",
    "# (b) Beräkna 5x.\n",
    "print(\"(b) Beräkna 5x:\", 5*x)\n",
    "\n",
    "# (c) Beräkna 3x.\n",
    "print(\"(c) Beräkna 3x:\", 3*x)\n",
    "\n",
    "# (d) Beräkna 5x+3x.\n",
    "print(\"(d) Beräkna 5x+3x:\", 5*x+3*x)\n",
    "\n",
    "# (e) Beräkna 8x.\n",
    "print(\"(e) Beräkna 8x:\", 8*x)\n",
    "\n",
    "# (f) Beräkna 4x−x.\n",
    "print(\"(f) Beräkna 4x−x:\", 4*x-x)\n",
    "\n",
    "# (g) Beräkna x⊤, vilken blir den nya dimensionen efter att transponeringen utförts?\n",
    "\n",
    "transponering = x.T\n",
    "\n",
    "print(\"(g) Beräkna x⊤:\", transponering)\n",
    "print(f\"Ny dimension: {transponering.shape}\")\n",
    "\n",
    "\n",
    "# (h) Är x+x⊤ definierat?\n",
    "\n",
    "print(\"(h) Är x+x⊤ definierat: not done\")\n",
    "\n",
    "# (i) Beräkna ∥x∥.\n",
    "\n",
    "normen_x = np.linalg.norm(x)\n",
    "print(\"(i) Beräkna ∥x∥:\", normen_x)\n"
   ]
  },
  {
   "cell_type": "code",
   "execution_count": null,
   "id": "723b147e",
   "metadata": {},
   "outputs": [],
   "source": [
    "# Uppgift 10.1.2.\n",
    "\n",
    "v = np.array([3, 7, 0, 11])\n",
    "\n",
    "# (a) Vilken dimension har vektorn v?\n",
    "print(\"(a) Vilken dimension har vektorn v:\", v.shape)\n",
    "\n",
    "# (b) Beräkna 2v\n",
    "print(\"(b) Beräkna 2v:\", 2*v_column)\n",
    "\n",
    "# (c) Beräkna 5v + 2v.\n",
    "print(\"(c) Beräkna 5v + 2v:\", 5*v_column+2*v_column)\n",
    "\n",
    "# (d) Beräkna 4v − 2v.\n",
    "print(\"(d) Beräkna 4v − 2v:\", 4*v_column - 2*v_column)\n",
    "\n",
    "# (e) Beräkna v⊤, vilken blir den nya dimensionen efter att transponeringen utförts?\n",
    "transponera = v_column.T\n",
    "\n",
    "print(\"(e) Beräkna v⊤:\", transponera)\n",
    "print(f\"Ny dimension: {transponera.shape}\")\n",
    "\n",
    "# (f) Beräkna ∥v∥.\n",
    "normen_v = np.linalg.norm(v)\n",
    "print(\"(f) Beräkna ∥v∥:\", normen_v)\n"
   ]
  },
  {
   "cell_type": "code",
   "execution_count": null,
   "id": "fb36fa35",
   "metadata": {},
   "outputs": [],
   "source": [
    "# Uppgift 10.1.3\n",
    "\n",
    "# Definiera vektorerna v1 = (4, 3, 1, 5) och v2 = (2, 3, 1, 1)\n",
    "v1 = np.array([4, 3, 1, 5])\n",
    "v2 = np.array([2, 3, 1, 1])\n",
    "\n",
    "# (a) Beräkna ∥v1∥.\n",
    "\n",
    "normen_v1 = np.linalg.norm(v1)\n",
    "print(\"(a) Beräkna ∥v1∥:\", normen_v1)\n",
    "\n",
    "\n",
    "# (b) Beräkna ∥v1-v2∥.\n",
    "normen_v2 = np.linalg.norm(v2)\n",
    "print(\"(b) Beräkna ∥v1-v2∥:\", normen_v1 - normen_v2)\n",
    "\n",
    "# diff_v1_v2 = np.linalg.norm(v1-v2)\n",
    "# print(\"(b) Beräkna ∥v1-v2∥:\", diff_v1_v2)\n"
   ]
  },
  {
   "cell_type": "markdown",
   "id": "75c98984-1f88-4df1-b850-d2466de444a5",
   "metadata": {},
   "source": [
    "### Solve all the exercises, except 10.2.4, in chapter 10.2 in the book \"Matematik för yrkeshögskolan\" by using Python. "
   ]
  },
  {
   "cell_type": "code",
   "execution_count": null,
   "id": "65371610-16e1-48b2-b7fb-65e49002608a",
   "metadata": {},
   "outputs": [],
   "source": [
    "# Uppgift 10.2.1.\n",
    "\n",
    "# Definiera matriserna\n",
    "A = np.array([[2, 1, -1], [1, -1, 1]])\n",
    "B = np.array([[4, -2, 1], [2, -4, -2]])\n",
    "C = np.array([[1, 2], [2, 1]])\n",
    "D = np.array([[3, 4], [4, 3]])\n",
    "E = np.array([[1], [2]])\n",
    "I = np.array([[1, 0], [0, 1]])\n",
    "\n",
    "# (a) Beräkna 2A:\n",
    "print(\"(a) Beräkna 2A:\", 2*A)\n",
    "\n",
    "# (b) Beräkna B-2A:\n",
    "print(\"(b) Beräkna B-2A:\", B-2*A)\n",
    "\n",
    "# (c) Beräkna 3C-2E:\n",
    "print(\"(c) Beräkna 3C-2E: Ej definierat\")\n",
    "\n",
    "# (d) Beräkna 2D-3C:\n",
    "print(\"(d) Beräkna 2D-3C:\", 2*D-3*C)\n",
    "\n",
    "# (e) Beräkna D⊤+2D:\n",
    "print(\"(e) Beräkna D⊤+2D:\", D.T+2*D)\n",
    "\n",
    "# (f) Beräkna 2C⊤ −2D⊤:\n",
    "print(\"(f) Beräkna 2C⊤ −2D⊤:\", 2*C.T-2*D.T)\n",
    "\n",
    "# (g) Beräkna A⊤ −B:\n",
    "print(\"(g) Beräkna A⊤ −B: Ej definierat\")\n",
    "\n",
    "# (h) Beräkna AC\n",
    "print(\"(h) Beräkna AC: Ej definierat\")\n",
    "\n",
    "# (i) Beräkna CD\n",
    "print(\"(i) Beräkna CD:\", C@D)\n",
    "\n",
    "# (j) Beräkna CB\n",
    "print(\"(j) Beräkna CB:\", C@B)\n",
    "\n",
    "# (k) Beräkna CI\n",
    "print(\"(k) Beräkna CI:\", C@I)\n",
    "\n",
    "# (l) Beräkna AB⊤\n",
    "print(\"(l) Beräkna ABT:\", A@B.T)\n"
   ]
  },
  {
   "cell_type": "code",
   "execution_count": null,
   "id": "9fd4d73f",
   "metadata": {},
   "outputs": [],
   "source": [
    "# Uppgift 10.2.2.\n",
    "\n",
    "# Definiera matrisen\n",
    "\n",
    "A = np.array([[2, 3, 4], [5, 4, 1]])\n",
    "\n",
    "# Beräkna AAT:\n",
    "print(\"Beräkna AAT:\", A@A.T)\n"
   ]
  },
  {
   "cell_type": "code",
   "execution_count": null,
   "id": "a67cf0b8",
   "metadata": {},
   "outputs": [],
   "source": [
    "# Uppgift 10.2.3.\n",
    "\n",
    "# Definiera matriserna\n",
    "\n",
    "A = np.array([[1, 2], [2, 4]])\n",
    "B = np.array([[2, 1], [1, 3]])\n",
    "C = np.array([[4,3], [0, 2]])\n",
    "\n",
    "print(A@B)\n",
    "print()\n",
    "print(A@C)\n",
    "print()\n",
    "print(B)\n",
    "print()\n",
    "print(C)\n",
    "print()\n",
    "print(A@B == A@C)\n",
    "print()\n",
    "print(B == C)\n",
    "\n"
   ]
  },
  {
   "cell_type": "markdown",
   "id": "6a4a524f",
   "metadata": {},
   "source": [
    "### Copies and Views\n",
    "Read the following link: https://numpy.org/doc/stable/user/basics.copies.html"
   ]
  },
  {
   "cell_type": "markdown",
   "id": "6cbbeaf7",
   "metadata": {},
   "source": [
    "**Basic indexing creates a view, How can you check if v1 and v2 is a view or copy? If you change the last element in v2 to 123, will the last element in v1 be changed? Why?**"
   ]
  },
  {
   "cell_type": "code",
   "execution_count": null,
   "id": "5b9ef4df",
   "metadata": {},
   "outputs": [],
   "source": [
    "v1 = np.arange(4)\n",
    "v2 = v1[-2:]\n",
    "print(v1)\n",
    "print(v2)"
   ]
  },
  {
   "cell_type": "code",
   "execution_count": null,
   "id": "d2440489",
   "metadata": {},
   "outputs": [],
   "source": [
    "# The base attribute of a view returns the original array while it returns None for a copy.\n",
    "print(v1.base)\n",
    "print(v2.base)"
   ]
  },
  {
   "cell_type": "code",
   "execution_count": null,
   "id": "c8752807",
   "metadata": {},
   "outputs": [],
   "source": [
    "# The last element in v1 will be changed aswell since v2 is a view, meaning they share the same data buffer.\n",
    "v2[-1] = 123\n",
    "print(v1)\n",
    "print(v2)"
   ]
  },
  {
   "cell_type": "code",
   "execution_count": null,
   "id": "3dd68221",
   "metadata": {},
   "outputs": [],
   "source": []
  }
 ],
 "metadata": {
  "kernelspec": {
   "display_name": ".venv",
   "language": "python",
   "name": "python3"
  },
  "language_info": {
   "codemirror_mode": {
    "name": "ipython",
    "version": 3
   },
   "file_extension": ".py",
   "mimetype": "text/x-python",
   "name": "python",
   "nbconvert_exporter": "python",
   "pygments_lexer": "ipython3",
   "version": "3.12.7"
  }
 },
 "nbformat": 4,
 "nbformat_minor": 5
}
